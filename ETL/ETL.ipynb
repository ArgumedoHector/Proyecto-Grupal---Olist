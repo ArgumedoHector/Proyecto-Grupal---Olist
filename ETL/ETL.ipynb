{
 "cells": [
  {
   "attachments": {},
   "cell_type": "markdown",
   "metadata": {},
   "source": [
    "Importamos las librerías necesarias para el proceso de extracción, transformación y carga y luego extraemos los csv correspondientes."
   ]
  },
  {
   "cell_type": "code",
   "execution_count": 2,
   "metadata": {},
   "outputs": [],
   "source": [
    "import pandas as pd\n",
    "from deep_translator import GoogleTranslator\n",
    "from googletrans import Translator\n",
    "import emoji\n",
    "import re"
   ]
  },
  {
   "attachments": {},
   "cell_type": "markdown",
   "metadata": {},
   "source": [
    "Leemos los dataframes."
   ]
  },
  {
   "cell_type": "code",
   "execution_count": 3,
   "metadata": {},
   "outputs": [],
   "source": [
    "Closed_deals = pd.read_csv(\"Closed_deals.csv\")\n",
    "Customers = pd.read_csv(\"Customers.csv\")\n",
    "Geolocation = pd.read_csv(\"Geolocation.csv\")\n",
    "Marketing = pd.read_csv(\"Marketing_qualified_leads.csv\")\n",
    "Order_items = pd.read_csv(\"Order_items.csv\")\n",
    "Order_payments = pd.read_csv(\"Order_payments.csv\")\n",
    "Order_reviews = pd.read_csv(\"Order_reviews.csv\")\n",
    "Orders = pd.read_csv(\"Orders.csv\")\n",
    "Product_category_name_translation = pd.read_csv(\"Product_category_name_translation.csv\")\n",
    "Products = pd.read_csv(\"Products.csv\")\n",
    "Sellers = pd.read_csv(\"Sellers.csv\")"
   ]
  },
  {
   "attachments": {},
   "cell_type": "markdown",
   "metadata": {},
   "source": [
    "Observamos que dentro del csv de closed deals hay columnas que no van a ser necesarias para nuestro análisis, por lo tanto las eliminamos."
   ]
  },
  {
   "cell_type": "code",
   "execution_count": 4,
   "metadata": {},
   "outputs": [
    {
     "name": "stdout",
     "output_type": "stream",
     "text": [
      "<class 'pandas.core.frame.DataFrame'>\n",
      "RangeIndex: 842 entries, 0 to 841\n",
      "Data columns (total 15 columns):\n",
      " #   Column                         Non-Null Count  Dtype  \n",
      "---  ------                         --------------  -----  \n",
      " 0   Unnamed: 0                     842 non-null    int64  \n",
      " 1   mql_id                         842 non-null    object \n",
      " 2   seller_id                      842 non-null    object \n",
      " 3   sdr_id                         842 non-null    object \n",
      " 4   sr_id                          842 non-null    object \n",
      " 5   won_date                       842 non-null    object \n",
      " 6   business_segment               841 non-null    object \n",
      " 7   lead_type                      836 non-null    object \n",
      " 8   lead_behaviour_profile         665 non-null    object \n",
      " 9   has_company                    63 non-null     object \n",
      " 10  has_gtin                       64 non-null     object \n",
      " 11  average_stock                  66 non-null     object \n",
      " 12  business_type                  832 non-null    object \n",
      " 13  declared_product_catalog_size  69 non-null     float64\n",
      " 14  declared_monthly_revenue       842 non-null    float64\n",
      "dtypes: float64(2), int64(1), object(12)\n",
      "memory usage: 98.8+ KB\n"
     ]
    }
   ],
   "source": [
    "Closed_deals.info()"
   ]
  },
  {
   "cell_type": "code",
   "execution_count": 5,
   "metadata": {},
   "outputs": [],
   "source": [
    "Closed_deals = Closed_deals.drop(['has_company', 'has_gtin', 'average_stock', 'declared_product_catalog_size'], axis=1)"
   ]
  },
  {
   "attachments": {},
   "cell_type": "markdown",
   "metadata": {},
   "source": [
    "Ahora, a los valores nulos de las columnas cualitativas los rellenamos por \"unknown\" (desconocido), ya que va a resultar más adecuado para nuestro análisis."
   ]
  },
  {
   "cell_type": "code",
   "execution_count": 6,
   "metadata": {},
   "outputs": [],
   "source": [
    "Closed_deals['business_segment'].fillna('unknown', inplace=True)\n",
    "Closed_deals['lead_type'].fillna('unknown', inplace=True)\n",
    "Closed_deals['lead_behaviour_profile'].fillna('unknown', inplace=True)\n",
    "Closed_deals['business_type'].fillna('unknown', inplace=True)"
   ]
  },
  {
   "attachments": {},
   "cell_type": "markdown",
   "metadata": {},
   "source": [
    "Dentro del csv 'Geolocation', creamos a una columna nueva donde nos ubique a qué región pertenece el Estado."
   ]
  },
  {
   "cell_type": "code",
   "execution_count": 21,
   "metadata": {},
   "outputs": [
    {
     "data": {
      "text/plain": [
       "array(['SP', 'RN', 'AC', 'RJ', 'ES', 'MG', 'BA', 'SE', 'PE', 'AL', 'PB',\n",
       "       'CE', 'PI', 'MA', 'PA', 'AP', 'AM', 'RR', 'DF', 'GO', 'RO', 'TO',\n",
       "       'MT', 'MS', 'RS', 'PR', 'SC'], dtype=object)"
      ]
     },
     "execution_count": 21,
     "metadata": {},
     "output_type": "execute_result"
    }
   ],
   "source": [
    "Geolocation['geolocation_state'].unique()"
   ]
  },
  {
   "cell_type": "code",
   "execution_count": 7,
   "metadata": {},
   "outputs": [],
   "source": [
    "Region={'PR':'Sur','RS':'Sur','SC':'Sur','SP':'Sudeste','MG':'Sudeste','RJ':'Sudeste','ES':'Sudeste','MT':'Centro oeste', 'MS':'Centro oeste', 'GO':'Centro oeste' , 'DF':'Centro oeste',\n",
    " 'AC':'Norte', 'AP':'Norte','AM':'Norte','PA':'Norte', 'RO':'Norte','RR':'Norte', 'TO':'Norte', \t\n",
    "'AL':'Nordeste','BA':'Nordeste','CE':'Nordeste','MA':'Nordeste','PB':'Nordeste','PI':'Nordeste',\n",
    "'PE':'Nordeste','RN':'Nordeste','SE':'Nordeste',}\n",
    "\n",
    "def get_region(state):\n",
    "    return Region[state]\n",
    "\n",
    "Geolocation['geolocation_region'] = Geolocation['geolocation_state'].apply(get_region)"
   ]
  },
  {
   "cell_type": "code",
   "execution_count": 8,
   "metadata": {},
   "outputs": [
    {
     "data": {
      "text/html": [
       "<div>\n",
       "<style scoped>\n",
       "    .dataframe tbody tr th:only-of-type {\n",
       "        vertical-align: middle;\n",
       "    }\n",
       "\n",
       "    .dataframe tbody tr th {\n",
       "        vertical-align: top;\n",
       "    }\n",
       "\n",
       "    .dataframe thead th {\n",
       "        text-align: right;\n",
       "    }\n",
       "</style>\n",
       "<table border=\"1\" class=\"dataframe\">\n",
       "  <thead>\n",
       "    <tr style=\"text-align: right;\">\n",
       "      <th></th>\n",
       "      <th>Unnamed: 0</th>\n",
       "      <th>geolocation_zip_code_prefix</th>\n",
       "      <th>geolocation_lat</th>\n",
       "      <th>geolocation_lng</th>\n",
       "      <th>geolocation_city</th>\n",
       "      <th>geolocation_state</th>\n",
       "      <th>geolocation_region</th>\n",
       "    </tr>\n",
       "  </thead>\n",
       "  <tbody>\n",
       "    <tr>\n",
       "      <th>0</th>\n",
       "      <td>0</td>\n",
       "      <td>1037</td>\n",
       "      <td>-23.545621</td>\n",
       "      <td>-46.639292</td>\n",
       "      <td>sao paulo</td>\n",
       "      <td>SP</td>\n",
       "      <td>Sudeste</td>\n",
       "    </tr>\n",
       "    <tr>\n",
       "      <th>1</th>\n",
       "      <td>1</td>\n",
       "      <td>1046</td>\n",
       "      <td>-23.546081</td>\n",
       "      <td>-46.644820</td>\n",
       "      <td>sao paulo</td>\n",
       "      <td>SP</td>\n",
       "      <td>Sudeste</td>\n",
       "    </tr>\n",
       "    <tr>\n",
       "      <th>2</th>\n",
       "      <td>2</td>\n",
       "      <td>1046</td>\n",
       "      <td>-23.546129</td>\n",
       "      <td>-46.642951</td>\n",
       "      <td>sao paulo</td>\n",
       "      <td>SP</td>\n",
       "      <td>Sudeste</td>\n",
       "    </tr>\n",
       "    <tr>\n",
       "      <th>3</th>\n",
       "      <td>3</td>\n",
       "      <td>1041</td>\n",
       "      <td>-23.544392</td>\n",
       "      <td>-46.639499</td>\n",
       "      <td>sao paulo</td>\n",
       "      <td>SP</td>\n",
       "      <td>Sudeste</td>\n",
       "    </tr>\n",
       "    <tr>\n",
       "      <th>4</th>\n",
       "      <td>4</td>\n",
       "      <td>1035</td>\n",
       "      <td>-23.541578</td>\n",
       "      <td>-46.641607</td>\n",
       "      <td>sao paulo</td>\n",
       "      <td>SP</td>\n",
       "      <td>Sudeste</td>\n",
       "    </tr>\n",
       "    <tr>\n",
       "      <th>...</th>\n",
       "      <td>...</td>\n",
       "      <td>...</td>\n",
       "      <td>...</td>\n",
       "      <td>...</td>\n",
       "      <td>...</td>\n",
       "      <td>...</td>\n",
       "      <td>...</td>\n",
       "    </tr>\n",
       "    <tr>\n",
       "      <th>1000158</th>\n",
       "      <td>1000158</td>\n",
       "      <td>99950</td>\n",
       "      <td>-28.068639</td>\n",
       "      <td>-52.010705</td>\n",
       "      <td>tapejara</td>\n",
       "      <td>RS</td>\n",
       "      <td>Sur</td>\n",
       "    </tr>\n",
       "    <tr>\n",
       "      <th>1000159</th>\n",
       "      <td>1000159</td>\n",
       "      <td>99900</td>\n",
       "      <td>-27.877125</td>\n",
       "      <td>-52.224882</td>\n",
       "      <td>getulio vargas</td>\n",
       "      <td>RS</td>\n",
       "      <td>Sur</td>\n",
       "    </tr>\n",
       "    <tr>\n",
       "      <th>1000160</th>\n",
       "      <td>1000160</td>\n",
       "      <td>99950</td>\n",
       "      <td>-28.071855</td>\n",
       "      <td>-52.014716</td>\n",
       "      <td>tapejara</td>\n",
       "      <td>RS</td>\n",
       "      <td>Sur</td>\n",
       "    </tr>\n",
       "    <tr>\n",
       "      <th>1000161</th>\n",
       "      <td>1000161</td>\n",
       "      <td>99980</td>\n",
       "      <td>-28.388932</td>\n",
       "      <td>-51.846871</td>\n",
       "      <td>david canabarro</td>\n",
       "      <td>RS</td>\n",
       "      <td>Sur</td>\n",
       "    </tr>\n",
       "    <tr>\n",
       "      <th>1000162</th>\n",
       "      <td>1000162</td>\n",
       "      <td>99950</td>\n",
       "      <td>-28.070104</td>\n",
       "      <td>-52.018658</td>\n",
       "      <td>tapejara</td>\n",
       "      <td>RS</td>\n",
       "      <td>Sur</td>\n",
       "    </tr>\n",
       "  </tbody>\n",
       "</table>\n",
       "<p>1000163 rows × 7 columns</p>\n",
       "</div>"
      ],
      "text/plain": [
       "         Unnamed: 0  geolocation_zip_code_prefix  geolocation_lat  \\\n",
       "0                 0                         1037       -23.545621   \n",
       "1                 1                         1046       -23.546081   \n",
       "2                 2                         1046       -23.546129   \n",
       "3                 3                         1041       -23.544392   \n",
       "4                 4                         1035       -23.541578   \n",
       "...             ...                          ...              ...   \n",
       "1000158     1000158                        99950       -28.068639   \n",
       "1000159     1000159                        99900       -27.877125   \n",
       "1000160     1000160                        99950       -28.071855   \n",
       "1000161     1000161                        99980       -28.388932   \n",
       "1000162     1000162                        99950       -28.070104   \n",
       "\n",
       "         geolocation_lng geolocation_city geolocation_state geolocation_region  \n",
       "0             -46.639292        sao paulo                SP            Sudeste  \n",
       "1             -46.644820        sao paulo                SP            Sudeste  \n",
       "2             -46.642951        sao paulo                SP            Sudeste  \n",
       "3             -46.639499        sao paulo                SP            Sudeste  \n",
       "4             -46.641607        sao paulo                SP            Sudeste  \n",
       "...                  ...              ...               ...                ...  \n",
       "1000158       -52.010705         tapejara                RS                Sur  \n",
       "1000159       -52.224882   getulio vargas                RS                Sur  \n",
       "1000160       -52.014716         tapejara                RS                Sur  \n",
       "1000161       -51.846871  david canabarro                RS                Sur  \n",
       "1000162       -52.018658         tapejara                RS                Sur  \n",
       "\n",
       "[1000163 rows x 7 columns]"
      ]
     },
     "execution_count": 8,
     "metadata": {},
     "output_type": "execute_result"
    }
   ],
   "source": [
    "Geolocation"
   ]
  },
  {
   "attachments": {},
   "cell_type": "markdown",
   "metadata": {},
   "source": [
    "Eliminación de datos duplicados."
   ]
  },
  {
   "cell_type": "code",
   "execution_count": 9,
   "metadata": {},
   "outputs": [],
   "source": [
    "Closed_deals = Closed_deals.drop_duplicates()\n",
    "Customers = Customers.drop_duplicates()\n",
    "Geolocation = Geolocation.drop_duplicates()\n",
    "Marketing = Marketing.drop_duplicates()\n",
    "Order_items = Order_items.drop_duplicates()\n",
    "Order_payments = Order_payments.drop_duplicates()\n",
    "Order_reviews = Order_reviews.drop_duplicates()\n",
    "Orders = Orders.drop_duplicates()\n",
    "Product_category_name_translation = Product_category_name_translation.drop_duplicates()\n",
    "Products = Products.drop_duplicates()\n",
    "Sellers = Sellers.drop_duplicates()"
   ]
  },
  {
   "attachments": {},
   "cell_type": "markdown",
   "metadata": {},
   "source": [
    "Cambiamos el caracter ã, por a, dentro del dataframe geolocation, ya que la misma ciudad aparecía escrita de dos maneras diferentes."
   ]
  },
  {
   "cell_type": "code",
   "execution_count": 10,
   "metadata": {},
   "outputs": [],
   "source": [
    "Geolocation['geolocation_city']= Geolocation['geolocation_city'].str.replace('ã','a')"
   ]
  },
  {
   "attachments": {},
   "cell_type": "markdown",
   "metadata": {},
   "source": [
    "Creamos una nueva columna en español para las sucursales latinoamericanas."
   ]
  },
  {
   "cell_type": "code",
   "execution_count": 11,
   "metadata": {},
   "outputs": [
    {
     "name": "stdout",
     "output_type": "stream",
     "text": [
      "    Unnamed: 0          product_category_name product_category_name_english  \\\n",
      "0            0                   beleza_saude                 health_beauty   \n",
      "1            1         informatica_acessorios         computers_accessories   \n",
      "2            2                     automotivo                          auto   \n",
      "3            3                cama_mesa_banho                bed_bath_table   \n",
      "4            4               moveis_decoracao               furniture_decor   \n",
      "..         ...                            ...                           ...   \n",
      "66          66                         flores                       flowers   \n",
      "67          67             artes_e_artesanato         arts_and_craftmanship   \n",
      "68          68                fraldas_higiene           diapers_and_hygiene   \n",
      "69          69  fashion_roupa_infanto_juvenil     fashion_childrens_clothes   \n",
      "70          70             seguros_e_servicos         security_and_services   \n",
      "\n",
      "   product_category_name_spanish  \n",
      "0                Salud y Belleza  \n",
      "1         ordenadores_accesorios  \n",
      "2                           auto  \n",
      "3                 cama_baño_mesa  \n",
      "4          decoración_de_muebles  \n",
      "..                           ...  \n",
      "66                        flores  \n",
      "67             artes_y_artesanía  \n",
      "68             pañales_e_higiene  \n",
      "69            moda_ropa_infantil  \n",
      "70         seguridad_y_servicios  \n",
      "\n",
      "[71 rows x 4 columns]\n"
     ]
    }
   ],
   "source": [
    "#le aplicamos la traducción a la columna product_category_name_english\n",
    "translator = GoogleTranslator(source=\"auto\", target=\"es\")\n",
    "Product_category_name_translation['product_category_name_spanish'] = Product_category_name_translation.product_category_name_english.apply(translator.translate)\n",
    "\n",
    "print(Product_category_name_translation)"
   ]
  },
  {
   "attachments": {},
   "cell_type": "markdown",
   "metadata": {},
   "source": [
    "Normalizamos la columna Order_reviews, agregando \"sin comentarios\" y \"sin título\" en los valores nulos de las columnas de mensaje y título. Debajo, aplicamos una función para eliminar los emojis de los comentarios, ya que vamos a necesitar las columnas para análisis posteriores, y teniendo los emojis no podemos traducirlas."
   ]
  },
  {
   "cell_type": "code",
   "execution_count": 12,
   "metadata": {},
   "outputs": [],
   "source": [
    "Order_reviews['review_comment_message'].fillna('sem_comentarios',inplace=True)\n",
    "Order_reviews['review_comment_title'].fillna('sem_titulo',inplace=True)"
   ]
  },
  {
   "cell_type": "code",
   "execution_count": 13,
   "metadata": {},
   "outputs": [
    {
     "name": "stdout",
     "output_type": "stream",
     "text": [
      "as df\n"
     ]
    },
    {
     "name": "stderr",
     "output_type": "stream",
     "text": [
      "C:\\Users\\Luis Castro\\AppData\\Local\\Temp\\ipykernel_4760\\3017088374.py:9: SettingWithCopyWarning: \n",
      "A value is trying to be set on a copy of a slice from a DataFrame\n",
      "\n",
      "See the caveats in the documentation: https://pandas.pydata.org/pandas-docs/stable/user_guide/indexing.html#returning-a-view-versus-a-copy\n",
      "  Order_reviews['review_comment_message'][i]=strip_emoji(Order_reviews['review_comment_message'][i])\n",
      "C:\\Users\\Luis Castro\\AppData\\Local\\Temp\\ipykernel_4760\\3017088374.py:10: SettingWithCopyWarning: \n",
      "A value is trying to be set on a copy of a slice from a DataFrame\n",
      "\n",
      "See the caveats in the documentation: https://pandas.pydata.org/pandas-docs/stable/user_guide/indexing.html#returning-a-view-versus-a-copy\n",
      "  Order_reviews['review_comment_title'][i]=strip_emoji(Order_reviews['review_comment_title'][i])\n"
     ]
    }
   ],
   "source": [
    "RE_EMOJI = re.compile('[\\U00010000-\\U0010ffff]', flags=re.UNICODE)\n",
    "\n",
    "def strip_emoji(text):\n",
    "    return RE_EMOJI.sub(r'', text)\n",
    "\n",
    "print(strip_emoji('🙄🤔as df'))\n",
    "\n",
    "for i in range(0,100):\n",
    "    Order_reviews['review_comment_message'][i]=strip_emoji(Order_reviews['review_comment_message'][i])\n",
    "    Order_reviews['review_comment_title'][i]=strip_emoji(Order_reviews['review_comment_title'][i])"
   ]
  },
  {
   "attachments": {},
   "cell_type": "markdown",
   "metadata": {},
   "source": [
    "Normalización de la tabla Order_reviews"
   ]
  },
  {
   "cell_type": "code",
   "execution_count": 14,
   "metadata": {},
   "outputs": [
    {
     "name": "stderr",
     "output_type": "stream",
     "text": [
      "C:\\Users\\Luis Castro\\AppData\\Local\\Temp\\ipykernel_4760\\1811077054.py:5: FutureWarning: The default value of regex will change from True to False in a future version. In addition, single character regular expressions will *not* be treated as literal strings when regex=True.\n",
      "  Order_reviews['review_comment_message'] = Order_reviews['review_comment_message'].str.replace('\\\\','')\n",
      "C:\\Users\\Luis Castro\\AppData\\Local\\Temp\\ipykernel_4760\\1811077054.py:10: FutureWarning: The default value of regex will change from True to False in a future version. In addition, single character regular expressions will *not* be treated as literal strings when regex=True.\n",
      "  Order_reviews['review_comment_title'] = Order_reviews['review_comment_title'].str.replace('\\\\','')\n"
     ]
    }
   ],
   "source": [
    "Order_reviews['review_comment_message'] = Order_reviews['review_comment_message'].str.replace('\\r\\n',' ')\n",
    "Order_reviews['review_comment_message'] = Order_reviews['review_comment_message'].apply(lambda text: emoji.demojize(text, delimiters=(\"\", \"\")))\n",
    "Order_reviews['review_comment_message'] = Order_reviews['review_comment_message'].str.replace(';',',')\n",
    "Order_reviews['review_comment_message'] = Order_reviews['review_comment_message'].str.replace('\"','')\n",
    "Order_reviews['review_comment_message'] = Order_reviews['review_comment_message'].str.replace('\\\\','')\n",
    "Order_reviews['review_comment_title'] = Order_reviews['review_comment_title'].str.replace('\\r\\n',' ')  \n",
    "Order_reviews['review_comment_title'] = Order_reviews['review_comment_title'].apply(lambda text: emoji.demojize(text, delimiters=(\"\", \"\")))\n",
    "Order_reviews['review_comment_title'] = Order_reviews['review_comment_title'].str.replace(';',',')\n",
    "Order_reviews['review_comment_title'] = Order_reviews['review_comment_title'].str.replace('\"','')\n",
    "Order_reviews['review_comment_title'] = Order_reviews['review_comment_title'].str.replace('\\\\','')"
   ]
  }
 ],
 "metadata": {
  "kernelspec": {
   "display_name": "Python 3",
   "language": "python",
   "name": "python3"
  },
  "language_info": {
   "codemirror_mode": {
    "name": "ipython",
    "version": 3
   },
   "file_extension": ".py",
   "mimetype": "text/x-python",
   "name": "python",
   "nbconvert_exporter": "python",
   "pygments_lexer": "ipython3",
   "version": "3.9.0"
  },
  "orig_nbformat": 4,
  "vscode": {
   "interpreter": {
    "hash": "82568fa2bf36a33630c96656e4d2f80225e5b2e1d21fd4371eb22ffd522260ac"
   }
  }
 },
 "nbformat": 4,
 "nbformat_minor": 2
}
